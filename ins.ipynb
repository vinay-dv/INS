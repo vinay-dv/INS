{
  "nbformat": 4,
  "nbformat_minor": 0,
  "metadata": {
    "colab": {
      "name": "Untitled",
      "provenance": []
    },
    "kernelspec": {
      "name": "python3",
      "display_name": "Python 3"
    }
  },
  "cells": [
    {
      "cell_type": "code",
      "metadata": {
        "id": "pRixm2ZQITuq"
      },
      "source": [
        "import pandas as pd\n",
        "import numpy as np\n",
        "import matplotlib.pyplot as plt\n",
        "import sklearn \n",
        "from sklearn.linear_model import LogisticRegression\n",
        "from sklearn.naive_bayes import GaussianNB,MultinomialNB,BernoulliNB\n",
        "from sklearn.svm import SVC\n",
        "from sklearn.metrics import confusion_matrix\n",
        "from sklearn.metrics import plot_confusion_matrix\n"
      ],
      "execution_count": null,
      "outputs": []
    },
    {
      "cell_type": "code",
      "metadata": {
        "id": "IZjKtE8kcUtX"
      },
      "source": [
        "##CONFUSiON MATRIX \n",
        "import itertools\n",
        "def plot_confusion_matrix(cm, classes,\n",
        "                          normalize=False,\n",
        "                          title='Confusion matrix',\n",
        "                          cmap=plt.cm.Blues):\n",
        "    \"\"\"\n",
        "    This function prints and plots the confusion matrix.\n",
        "    Normalization can be applied by setting `normalize=True`.\n",
        "    \"\"\"\n",
        "    if normalize:\n",
        "        cm = cm.astype('float') / cm.sum(axis=1)[:, np.newaxis]\n",
        "        print(\"Normalized confusion matrix\")\n",
        "    else:\n",
        "        print('Confusion matrix, without normalization')\n",
        "\n",
        "    print(cm)\n",
        "\n",
        "    plt.imshow(cm, interpolation='nearest', cmap=cmap)\n",
        "    plt.title(title)\n",
        "    plt.colorbar()\n",
        "    tick_marks = np.arange(len(classes))\n",
        "    plt.xticks(tick_marks, classes, rotation=45)\n",
        "    plt.yticks(tick_marks, classes)\n",
        "\n",
        "    fmt = '.2f' if normalize else 'd'\n",
        "    thresh = cm.max() / 2.\n",
        "    for i, j in itertools.product(range(cm.shape[0]), range(cm.shape[1])):\n",
        "        plt.text(j, i, format(cm[i, j], fmt),\n",
        "                 horizontalalignment=\"center\",\n",
        "                 color=\"white\" if cm[i, j] > thresh else \"black\")\n",
        "\n",
        "    plt.ylabel('True label')\n",
        "    plt.xlabel('Predicted label')\n",
        "    plt.tight_layout()\n",
        "\n",
        "def printParams(cm):\n",
        "    recall=cm[1][1]/(cm[1][0]+cm[1][1])\n",
        "    precision=cm[1][1]/(cm[1][1]+cm[0][1])\n",
        "    accuracy=(cm[1][1]+cm[0][0])/(cm[0][0]+cm[0][1]+cm[1][0]+cm[1][1])\n",
        "    fm=(2*recall*precision)/(recall+precision)\n",
        "    print(\"ACCURACY:\",accuracy)\n",
        "    print(\"PRECISION:\",precision)\n",
        "    print(\"RECALL:\",recall)\n",
        "    print(\"F-measure\",fm)\n",
        "\n"
      ],
      "execution_count": null,
      "outputs": []
    },
    {
      "cell_type": "code",
      "metadata": {
        "id": "P5gPGJqaI19e"
      },
      "source": [
        "df=pd.read_csv('Phishing.csv')"
      ],
      "execution_count": null,
      "outputs": []
    },
    {
      "cell_type": "code",
      "metadata": {
        "id": "TkLKQmWYI97K",
        "colab": {
          "base_uri": "https://localhost:8080/",
          "height": 689
        },
        "outputId": "0cf51477-f1ba-47ef-a9a1-0f6e85f16ba7"
      },
      "source": [
        "df.head(20)"
      ],
      "execution_count": null,
      "outputs": [
        {
          "output_type": "execute_result",
          "data": {
            "text/html": [
              "<div>\n",
              "<style scoped>\n",
              "    .dataframe tbody tr th:only-of-type {\n",
              "        vertical-align: middle;\n",
              "    }\n",
              "\n",
              "    .dataframe tbody tr th {\n",
              "        vertical-align: top;\n",
              "    }\n",
              "\n",
              "    .dataframe thead th {\n",
              "        text-align: right;\n",
              "    }\n",
              "</style>\n",
              "<table border=\"1\" class=\"dataframe\">\n",
              "  <thead>\n",
              "    <tr style=\"text-align: right;\">\n",
              "      <th></th>\n",
              "      <th>having_IP_Address</th>\n",
              "      <th>URL_Length</th>\n",
              "      <th>Shortining_Service</th>\n",
              "      <th>having_At_Symbol</th>\n",
              "      <th>double_slash_redirecting</th>\n",
              "      <th>Prefix_Suffix</th>\n",
              "      <th>having_Sub_Domain</th>\n",
              "      <th>SSLfinal_State</th>\n",
              "      <th>Domain_registeration_length</th>\n",
              "      <th>Favicon</th>\n",
              "      <th>port</th>\n",
              "      <th>HTTPS_token</th>\n",
              "      <th>Request_URL</th>\n",
              "      <th>URL_of_Anchor</th>\n",
              "      <th>Links_in_tags</th>\n",
              "      <th>SFH</th>\n",
              "      <th>Submitting_to_email</th>\n",
              "      <th>Abnormal_URL</th>\n",
              "      <th>Redirect</th>\n",
              "      <th>on_mouseover</th>\n",
              "      <th>RightClick</th>\n",
              "      <th>popUpWidnow</th>\n",
              "      <th>Iframe</th>\n",
              "      <th>age_of_domain</th>\n",
              "      <th>DNSRecord</th>\n",
              "      <th>web_traffic</th>\n",
              "      <th>Page_Rank</th>\n",
              "      <th>Google_Index</th>\n",
              "      <th>Links_pointing_to_page</th>\n",
              "      <th>Statistical_report</th>\n",
              "      <th>Result</th>\n",
              "    </tr>\n",
              "  </thead>\n",
              "  <tbody>\n",
              "    <tr>\n",
              "      <th>0</th>\n",
              "      <td>-1</td>\n",
              "      <td>1</td>\n",
              "      <td>1</td>\n",
              "      <td>1</td>\n",
              "      <td>-1</td>\n",
              "      <td>-1</td>\n",
              "      <td>-1</td>\n",
              "      <td>-1</td>\n",
              "      <td>-1</td>\n",
              "      <td>1</td>\n",
              "      <td>1</td>\n",
              "      <td>-1</td>\n",
              "      <td>1</td>\n",
              "      <td>-1</td>\n",
              "      <td>1</td>\n",
              "      <td>-1</td>\n",
              "      <td>-1</td>\n",
              "      <td>-1</td>\n",
              "      <td>0</td>\n",
              "      <td>1</td>\n",
              "      <td>1</td>\n",
              "      <td>1</td>\n",
              "      <td>1</td>\n",
              "      <td>-1</td>\n",
              "      <td>-1</td>\n",
              "      <td>-1</td>\n",
              "      <td>-1</td>\n",
              "      <td>1</td>\n",
              "      <td>1</td>\n",
              "      <td>-1</td>\n",
              "      <td>-1</td>\n",
              "    </tr>\n",
              "    <tr>\n",
              "      <th>1</th>\n",
              "      <td>1</td>\n",
              "      <td>1</td>\n",
              "      <td>1</td>\n",
              "      <td>1</td>\n",
              "      <td>1</td>\n",
              "      <td>-1</td>\n",
              "      <td>0</td>\n",
              "      <td>1</td>\n",
              "      <td>-1</td>\n",
              "      <td>1</td>\n",
              "      <td>1</td>\n",
              "      <td>-1</td>\n",
              "      <td>1</td>\n",
              "      <td>0</td>\n",
              "      <td>-1</td>\n",
              "      <td>-1</td>\n",
              "      <td>1</td>\n",
              "      <td>1</td>\n",
              "      <td>0</td>\n",
              "      <td>1</td>\n",
              "      <td>1</td>\n",
              "      <td>1</td>\n",
              "      <td>1</td>\n",
              "      <td>-1</td>\n",
              "      <td>-1</td>\n",
              "      <td>0</td>\n",
              "      <td>-1</td>\n",
              "      <td>1</td>\n",
              "      <td>1</td>\n",
              "      <td>1</td>\n",
              "      <td>-1</td>\n",
              "    </tr>\n",
              "    <tr>\n",
              "      <th>2</th>\n",
              "      <td>1</td>\n",
              "      <td>0</td>\n",
              "      <td>1</td>\n",
              "      <td>1</td>\n",
              "      <td>1</td>\n",
              "      <td>-1</td>\n",
              "      <td>-1</td>\n",
              "      <td>-1</td>\n",
              "      <td>-1</td>\n",
              "      <td>1</td>\n",
              "      <td>1</td>\n",
              "      <td>-1</td>\n",
              "      <td>1</td>\n",
              "      <td>0</td>\n",
              "      <td>-1</td>\n",
              "      <td>-1</td>\n",
              "      <td>-1</td>\n",
              "      <td>-1</td>\n",
              "      <td>0</td>\n",
              "      <td>1</td>\n",
              "      <td>1</td>\n",
              "      <td>1</td>\n",
              "      <td>1</td>\n",
              "      <td>1</td>\n",
              "      <td>-1</td>\n",
              "      <td>1</td>\n",
              "      <td>-1</td>\n",
              "      <td>1</td>\n",
              "      <td>0</td>\n",
              "      <td>-1</td>\n",
              "      <td>-1</td>\n",
              "    </tr>\n",
              "    <tr>\n",
              "      <th>3</th>\n",
              "      <td>1</td>\n",
              "      <td>0</td>\n",
              "      <td>1</td>\n",
              "      <td>1</td>\n",
              "      <td>1</td>\n",
              "      <td>-1</td>\n",
              "      <td>-1</td>\n",
              "      <td>-1</td>\n",
              "      <td>1</td>\n",
              "      <td>1</td>\n",
              "      <td>1</td>\n",
              "      <td>-1</td>\n",
              "      <td>-1</td>\n",
              "      <td>0</td>\n",
              "      <td>0</td>\n",
              "      <td>-1</td>\n",
              "      <td>1</td>\n",
              "      <td>1</td>\n",
              "      <td>0</td>\n",
              "      <td>1</td>\n",
              "      <td>1</td>\n",
              "      <td>1</td>\n",
              "      <td>1</td>\n",
              "      <td>-1</td>\n",
              "      <td>-1</td>\n",
              "      <td>1</td>\n",
              "      <td>-1</td>\n",
              "      <td>1</td>\n",
              "      <td>-1</td>\n",
              "      <td>1</td>\n",
              "      <td>-1</td>\n",
              "    </tr>\n",
              "    <tr>\n",
              "      <th>4</th>\n",
              "      <td>1</td>\n",
              "      <td>0</td>\n",
              "      <td>-1</td>\n",
              "      <td>1</td>\n",
              "      <td>1</td>\n",
              "      <td>-1</td>\n",
              "      <td>1</td>\n",
              "      <td>1</td>\n",
              "      <td>-1</td>\n",
              "      <td>1</td>\n",
              "      <td>1</td>\n",
              "      <td>1</td>\n",
              "      <td>1</td>\n",
              "      <td>0</td>\n",
              "      <td>0</td>\n",
              "      <td>-1</td>\n",
              "      <td>1</td>\n",
              "      <td>1</td>\n",
              "      <td>0</td>\n",
              "      <td>-1</td>\n",
              "      <td>1</td>\n",
              "      <td>-1</td>\n",
              "      <td>1</td>\n",
              "      <td>-1</td>\n",
              "      <td>-1</td>\n",
              "      <td>0</td>\n",
              "      <td>-1</td>\n",
              "      <td>1</td>\n",
              "      <td>1</td>\n",
              "      <td>1</td>\n",
              "      <td>1</td>\n",
              "    </tr>\n",
              "    <tr>\n",
              "      <th>5</th>\n",
              "      <td>-1</td>\n",
              "      <td>0</td>\n",
              "      <td>-1</td>\n",
              "      <td>1</td>\n",
              "      <td>-1</td>\n",
              "      <td>-1</td>\n",
              "      <td>1</td>\n",
              "      <td>1</td>\n",
              "      <td>-1</td>\n",
              "      <td>1</td>\n",
              "      <td>1</td>\n",
              "      <td>-1</td>\n",
              "      <td>1</td>\n",
              "      <td>0</td>\n",
              "      <td>0</td>\n",
              "      <td>-1</td>\n",
              "      <td>-1</td>\n",
              "      <td>-1</td>\n",
              "      <td>0</td>\n",
              "      <td>1</td>\n",
              "      <td>1</td>\n",
              "      <td>1</td>\n",
              "      <td>1</td>\n",
              "      <td>1</td>\n",
              "      <td>1</td>\n",
              "      <td>1</td>\n",
              "      <td>-1</td>\n",
              "      <td>1</td>\n",
              "      <td>-1</td>\n",
              "      <td>-1</td>\n",
              "      <td>1</td>\n",
              "    </tr>\n",
              "    <tr>\n",
              "      <th>6</th>\n",
              "      <td>1</td>\n",
              "      <td>0</td>\n",
              "      <td>-1</td>\n",
              "      <td>1</td>\n",
              "      <td>1</td>\n",
              "      <td>-1</td>\n",
              "      <td>-1</td>\n",
              "      <td>-1</td>\n",
              "      <td>1</td>\n",
              "      <td>1</td>\n",
              "      <td>1</td>\n",
              "      <td>1</td>\n",
              "      <td>-1</td>\n",
              "      <td>-1</td>\n",
              "      <td>0</td>\n",
              "      <td>-1</td>\n",
              "      <td>-1</td>\n",
              "      <td>-1</td>\n",
              "      <td>0</td>\n",
              "      <td>1</td>\n",
              "      <td>1</td>\n",
              "      <td>1</td>\n",
              "      <td>1</td>\n",
              "      <td>1</td>\n",
              "      <td>-1</td>\n",
              "      <td>-1</td>\n",
              "      <td>-1</td>\n",
              "      <td>1</td>\n",
              "      <td>0</td>\n",
              "      <td>-1</td>\n",
              "      <td>-1</td>\n",
              "    </tr>\n",
              "    <tr>\n",
              "      <th>7</th>\n",
              "      <td>1</td>\n",
              "      <td>0</td>\n",
              "      <td>1</td>\n",
              "      <td>1</td>\n",
              "      <td>1</td>\n",
              "      <td>-1</td>\n",
              "      <td>-1</td>\n",
              "      <td>-1</td>\n",
              "      <td>1</td>\n",
              "      <td>1</td>\n",
              "      <td>1</td>\n",
              "      <td>-1</td>\n",
              "      <td>-1</td>\n",
              "      <td>0</td>\n",
              "      <td>-1</td>\n",
              "      <td>-1</td>\n",
              "      <td>1</td>\n",
              "      <td>1</td>\n",
              "      <td>0</td>\n",
              "      <td>1</td>\n",
              "      <td>1</td>\n",
              "      <td>1</td>\n",
              "      <td>1</td>\n",
              "      <td>-1</td>\n",
              "      <td>-1</td>\n",
              "      <td>0</td>\n",
              "      <td>-1</td>\n",
              "      <td>1</td>\n",
              "      <td>0</td>\n",
              "      <td>1</td>\n",
              "      <td>-1</td>\n",
              "    </tr>\n",
              "    <tr>\n",
              "      <th>8</th>\n",
              "      <td>1</td>\n",
              "      <td>0</td>\n",
              "      <td>-1</td>\n",
              "      <td>1</td>\n",
              "      <td>1</td>\n",
              "      <td>-1</td>\n",
              "      <td>1</td>\n",
              "      <td>1</td>\n",
              "      <td>-1</td>\n",
              "      <td>1</td>\n",
              "      <td>1</td>\n",
              "      <td>-1</td>\n",
              "      <td>1</td>\n",
              "      <td>0</td>\n",
              "      <td>1</td>\n",
              "      <td>-1</td>\n",
              "      <td>1</td>\n",
              "      <td>1</td>\n",
              "      <td>0</td>\n",
              "      <td>1</td>\n",
              "      <td>1</td>\n",
              "      <td>1</td>\n",
              "      <td>1</td>\n",
              "      <td>1</td>\n",
              "      <td>-1</td>\n",
              "      <td>1</td>\n",
              "      <td>1</td>\n",
              "      <td>1</td>\n",
              "      <td>0</td>\n",
              "      <td>1</td>\n",
              "      <td>1</td>\n",
              "    </tr>\n",
              "    <tr>\n",
              "      <th>9</th>\n",
              "      <td>1</td>\n",
              "      <td>1</td>\n",
              "      <td>-1</td>\n",
              "      <td>1</td>\n",
              "      <td>1</td>\n",
              "      <td>-1</td>\n",
              "      <td>-1</td>\n",
              "      <td>1</td>\n",
              "      <td>-1</td>\n",
              "      <td>1</td>\n",
              "      <td>1</td>\n",
              "      <td>1</td>\n",
              "      <td>1</td>\n",
              "      <td>0</td>\n",
              "      <td>1</td>\n",
              "      <td>-1</td>\n",
              "      <td>1</td>\n",
              "      <td>1</td>\n",
              "      <td>0</td>\n",
              "      <td>1</td>\n",
              "      <td>1</td>\n",
              "      <td>1</td>\n",
              "      <td>1</td>\n",
              "      <td>1</td>\n",
              "      <td>-1</td>\n",
              "      <td>0</td>\n",
              "      <td>-1</td>\n",
              "      <td>1</td>\n",
              "      <td>0</td>\n",
              "      <td>1</td>\n",
              "      <td>-1</td>\n",
              "    </tr>\n",
              "    <tr>\n",
              "      <th>10</th>\n",
              "      <td>1</td>\n",
              "      <td>1</td>\n",
              "      <td>1</td>\n",
              "      <td>1</td>\n",
              "      <td>1</td>\n",
              "      <td>-1</td>\n",
              "      <td>0</td>\n",
              "      <td>1</td>\n",
              "      <td>1</td>\n",
              "      <td>1</td>\n",
              "      <td>1</td>\n",
              "      <td>1</td>\n",
              "      <td>-1</td>\n",
              "      <td>0</td>\n",
              "      <td>0</td>\n",
              "      <td>-1</td>\n",
              "      <td>-1</td>\n",
              "      <td>-1</td>\n",
              "      <td>0</td>\n",
              "      <td>1</td>\n",
              "      <td>1</td>\n",
              "      <td>1</td>\n",
              "      <td>1</td>\n",
              "      <td>-1</td>\n",
              "      <td>1</td>\n",
              "      <td>1</td>\n",
              "      <td>1</td>\n",
              "      <td>1</td>\n",
              "      <td>-1</td>\n",
              "      <td>-1</td>\n",
              "      <td>1</td>\n",
              "    </tr>\n",
              "    <tr>\n",
              "      <th>11</th>\n",
              "      <td>1</td>\n",
              "      <td>1</td>\n",
              "      <td>-1</td>\n",
              "      <td>1</td>\n",
              "      <td>1</td>\n",
              "      <td>-1</td>\n",
              "      <td>1</td>\n",
              "      <td>-1</td>\n",
              "      <td>-1</td>\n",
              "      <td>1</td>\n",
              "      <td>1</td>\n",
              "      <td>1</td>\n",
              "      <td>1</td>\n",
              "      <td>-1</td>\n",
              "      <td>-1</td>\n",
              "      <td>-1</td>\n",
              "      <td>-1</td>\n",
              "      <td>-1</td>\n",
              "      <td>0</td>\n",
              "      <td>1</td>\n",
              "      <td>1</td>\n",
              "      <td>1</td>\n",
              "      <td>1</td>\n",
              "      <td>-1</td>\n",
              "      <td>-1</td>\n",
              "      <td>-1</td>\n",
              "      <td>-1</td>\n",
              "      <td>1</td>\n",
              "      <td>0</td>\n",
              "      <td>-1</td>\n",
              "      <td>-1</td>\n",
              "    </tr>\n",
              "    <tr>\n",
              "      <th>12</th>\n",
              "      <td>-1</td>\n",
              "      <td>1</td>\n",
              "      <td>-1</td>\n",
              "      <td>1</td>\n",
              "      <td>-1</td>\n",
              "      <td>-1</td>\n",
              "      <td>0</td>\n",
              "      <td>0</td>\n",
              "      <td>1</td>\n",
              "      <td>1</td>\n",
              "      <td>1</td>\n",
              "      <td>-1</td>\n",
              "      <td>-1</td>\n",
              "      <td>-1</td>\n",
              "      <td>1</td>\n",
              "      <td>-1</td>\n",
              "      <td>1</td>\n",
              "      <td>1</td>\n",
              "      <td>0</td>\n",
              "      <td>-1</td>\n",
              "      <td>1</td>\n",
              "      <td>-1</td>\n",
              "      <td>1</td>\n",
              "      <td>1</td>\n",
              "      <td>-1</td>\n",
              "      <td>-1</td>\n",
              "      <td>-1</td>\n",
              "      <td>1</td>\n",
              "      <td>0</td>\n",
              "      <td>1</td>\n",
              "      <td>-1</td>\n",
              "    </tr>\n",
              "    <tr>\n",
              "      <th>13</th>\n",
              "      <td>1</td>\n",
              "      <td>1</td>\n",
              "      <td>-1</td>\n",
              "      <td>1</td>\n",
              "      <td>1</td>\n",
              "      <td>-1</td>\n",
              "      <td>0</td>\n",
              "      <td>-1</td>\n",
              "      <td>1</td>\n",
              "      <td>1</td>\n",
              "      <td>1</td>\n",
              "      <td>1</td>\n",
              "      <td>-1</td>\n",
              "      <td>-1</td>\n",
              "      <td>-1</td>\n",
              "      <td>-1</td>\n",
              "      <td>1</td>\n",
              "      <td>1</td>\n",
              "      <td>0</td>\n",
              "      <td>1</td>\n",
              "      <td>1</td>\n",
              "      <td>1</td>\n",
              "      <td>1</td>\n",
              "      <td>-1</td>\n",
              "      <td>-1</td>\n",
              "      <td>0</td>\n",
              "      <td>-1</td>\n",
              "      <td>1</td>\n",
              "      <td>1</td>\n",
              "      <td>1</td>\n",
              "      <td>-1</td>\n",
              "    </tr>\n",
              "    <tr>\n",
              "      <th>14</th>\n",
              "      <td>1</td>\n",
              "      <td>1</td>\n",
              "      <td>-1</td>\n",
              "      <td>1</td>\n",
              "      <td>1</td>\n",
              "      <td>1</td>\n",
              "      <td>-1</td>\n",
              "      <td>1</td>\n",
              "      <td>-1</td>\n",
              "      <td>1</td>\n",
              "      <td>1</td>\n",
              "      <td>-1</td>\n",
              "      <td>1</td>\n",
              "      <td>0</td>\n",
              "      <td>1</td>\n",
              "      <td>1</td>\n",
              "      <td>1</td>\n",
              "      <td>1</td>\n",
              "      <td>0</td>\n",
              "      <td>1</td>\n",
              "      <td>1</td>\n",
              "      <td>1</td>\n",
              "      <td>1</td>\n",
              "      <td>1</td>\n",
              "      <td>-1</td>\n",
              "      <td>1</td>\n",
              "      <td>-1</td>\n",
              "      <td>1</td>\n",
              "      <td>-1</td>\n",
              "      <td>1</td>\n",
              "      <td>1</td>\n",
              "    </tr>\n",
              "    <tr>\n",
              "      <th>15</th>\n",
              "      <td>1</td>\n",
              "      <td>-1</td>\n",
              "      <td>-1</td>\n",
              "      <td>-1</td>\n",
              "      <td>1</td>\n",
              "      <td>-1</td>\n",
              "      <td>0</td>\n",
              "      <td>0</td>\n",
              "      <td>1</td>\n",
              "      <td>1</td>\n",
              "      <td>1</td>\n",
              "      <td>1</td>\n",
              "      <td>-1</td>\n",
              "      <td>-1</td>\n",
              "      <td>0</td>\n",
              "      <td>-1</td>\n",
              "      <td>1</td>\n",
              "      <td>1</td>\n",
              "      <td>0</td>\n",
              "      <td>1</td>\n",
              "      <td>1</td>\n",
              "      <td>1</td>\n",
              "      <td>1</td>\n",
              "      <td>1</td>\n",
              "      <td>-1</td>\n",
              "      <td>-1</td>\n",
              "      <td>-1</td>\n",
              "      <td>1</td>\n",
              "      <td>0</td>\n",
              "      <td>1</td>\n",
              "      <td>-1</td>\n",
              "    </tr>\n",
              "    <tr>\n",
              "      <th>16</th>\n",
              "      <td>1</td>\n",
              "      <td>-1</td>\n",
              "      <td>-1</td>\n",
              "      <td>1</td>\n",
              "      <td>1</td>\n",
              "      <td>-1</td>\n",
              "      <td>1</td>\n",
              "      <td>1</td>\n",
              "      <td>-1</td>\n",
              "      <td>1</td>\n",
              "      <td>1</td>\n",
              "      <td>-1</td>\n",
              "      <td>1</td>\n",
              "      <td>0</td>\n",
              "      <td>-1</td>\n",
              "      <td>-1</td>\n",
              "      <td>-1</td>\n",
              "      <td>-1</td>\n",
              "      <td>0</td>\n",
              "      <td>1</td>\n",
              "      <td>1</td>\n",
              "      <td>1</td>\n",
              "      <td>1</td>\n",
              "      <td>1</td>\n",
              "      <td>-1</td>\n",
              "      <td>0</td>\n",
              "      <td>-1</td>\n",
              "      <td>1</td>\n",
              "      <td>1</td>\n",
              "      <td>-1</td>\n",
              "      <td>-1</td>\n",
              "    </tr>\n",
              "    <tr>\n",
              "      <th>17</th>\n",
              "      <td>1</td>\n",
              "      <td>-1</td>\n",
              "      <td>1</td>\n",
              "      <td>1</td>\n",
              "      <td>1</td>\n",
              "      <td>-1</td>\n",
              "      <td>-1</td>\n",
              "      <td>0</td>\n",
              "      <td>1</td>\n",
              "      <td>1</td>\n",
              "      <td>-1</td>\n",
              "      <td>1</td>\n",
              "      <td>1</td>\n",
              "      <td>0</td>\n",
              "      <td>-1</td>\n",
              "      <td>-1</td>\n",
              "      <td>-1</td>\n",
              "      <td>-1</td>\n",
              "      <td>0</td>\n",
              "      <td>1</td>\n",
              "      <td>1</td>\n",
              "      <td>1</td>\n",
              "      <td>1</td>\n",
              "      <td>-1</td>\n",
              "      <td>1</td>\n",
              "      <td>1</td>\n",
              "      <td>-1</td>\n",
              "      <td>1</td>\n",
              "      <td>1</td>\n",
              "      <td>-1</td>\n",
              "      <td>-1</td>\n",
              "    </tr>\n",
              "    <tr>\n",
              "      <th>18</th>\n",
              "      <td>1</td>\n",
              "      <td>1</td>\n",
              "      <td>1</td>\n",
              "      <td>1</td>\n",
              "      <td>1</td>\n",
              "      <td>-1</td>\n",
              "      <td>-1</td>\n",
              "      <td>1</td>\n",
              "      <td>1</td>\n",
              "      <td>1</td>\n",
              "      <td>1</td>\n",
              "      <td>-1</td>\n",
              "      <td>-1</td>\n",
              "      <td>0</td>\n",
              "      <td>-1</td>\n",
              "      <td>-1</td>\n",
              "      <td>-1</td>\n",
              "      <td>-1</td>\n",
              "      <td>0</td>\n",
              "      <td>1</td>\n",
              "      <td>1</td>\n",
              "      <td>1</td>\n",
              "      <td>1</td>\n",
              "      <td>1</td>\n",
              "      <td>-1</td>\n",
              "      <td>-1</td>\n",
              "      <td>1</td>\n",
              "      <td>1</td>\n",
              "      <td>-1</td>\n",
              "      <td>-1</td>\n",
              "      <td>1</td>\n",
              "    </tr>\n",
              "    <tr>\n",
              "      <th>19</th>\n",
              "      <td>1</td>\n",
              "      <td>1</td>\n",
              "      <td>1</td>\n",
              "      <td>1</td>\n",
              "      <td>1</td>\n",
              "      <td>-1</td>\n",
              "      <td>-1</td>\n",
              "      <td>1</td>\n",
              "      <td>-1</td>\n",
              "      <td>1</td>\n",
              "      <td>1</td>\n",
              "      <td>1</td>\n",
              "      <td>1</td>\n",
              "      <td>0</td>\n",
              "      <td>0</td>\n",
              "      <td>-1</td>\n",
              "      <td>-1</td>\n",
              "      <td>-1</td>\n",
              "      <td>0</td>\n",
              "      <td>-1</td>\n",
              "      <td>-1</td>\n",
              "      <td>-1</td>\n",
              "      <td>-1</td>\n",
              "      <td>1</td>\n",
              "      <td>-1</td>\n",
              "      <td>0</td>\n",
              "      <td>-1</td>\n",
              "      <td>1</td>\n",
              "      <td>0</td>\n",
              "      <td>-1</td>\n",
              "      <td>1</td>\n",
              "    </tr>\n",
              "  </tbody>\n",
              "</table>\n",
              "</div>"
            ],
            "text/plain": [
              "    having_IP_Address  URL_Length  ...  Statistical_report  Result\n",
              "0                  -1           1  ...                  -1      -1\n",
              "1                   1           1  ...                   1      -1\n",
              "2                   1           0  ...                  -1      -1\n",
              "3                   1           0  ...                   1      -1\n",
              "4                   1           0  ...                   1       1\n",
              "5                  -1           0  ...                  -1       1\n",
              "6                   1           0  ...                  -1      -1\n",
              "7                   1           0  ...                   1      -1\n",
              "8                   1           0  ...                   1       1\n",
              "9                   1           1  ...                   1      -1\n",
              "10                  1           1  ...                  -1       1\n",
              "11                  1           1  ...                  -1      -1\n",
              "12                 -1           1  ...                   1      -1\n",
              "13                  1           1  ...                   1      -1\n",
              "14                  1           1  ...                   1       1\n",
              "15                  1          -1  ...                   1      -1\n",
              "16                  1          -1  ...                  -1      -1\n",
              "17                  1          -1  ...                  -1      -1\n",
              "18                  1           1  ...                  -1       1\n",
              "19                  1           1  ...                  -1       1\n",
              "\n",
              "[20 rows x 31 columns]"
            ]
          },
          "metadata": {
            "tags": []
          },
          "execution_count": 6
        }
      ]
    },
    {
      "cell_type": "code",
      "metadata": {
        "id": "35W7najgI_zc",
        "colab": {
          "base_uri": "https://localhost:8080/"
        },
        "outputId": "2da42012-062c-4ce9-aff9-8cf7468a4556"
      },
      "source": [
        "data=df.values;\n",
        "print(data.shape)"
      ],
      "execution_count": null,
      "outputs": [
        {
          "output_type": "stream",
          "text": [
            "(11055, 31)\n"
          ],
          "name": "stdout"
        }
      ]
    },
    {
      "cell_type": "code",
      "metadata": {
        "id": "DEEIQU_UL9KX",
        "colab": {
          "base_uri": "https://localhost:8080/"
        },
        "outputId": "4640b274-4838-4bc0-c144-db0a098be361"
      },
      "source": [
        "X=data[:,0:30]\n",
        "Y=data[:,30]\n",
        "print(X.shape)\n",
        "print(Y.shape)"
      ],
      "execution_count": null,
      "outputs": [
        {
          "output_type": "stream",
          "text": [
            "(11055, 30)\n",
            "(11055,)\n"
          ],
          "name": "stdout"
        }
      ]
    },
    {
      "cell_type": "code",
      "metadata": {
        "id": "tByOIxJNMhIe"
      },
      "source": [
        "def fun(val):\n",
        "  if val==-1:\n",
        "    return 0\n",
        "  elif val==0:\n",
        "    return 1\n",
        "  else:\n",
        "    return 2"
      ],
      "execution_count": null,
      "outputs": []
    },
    {
      "cell_type": "code",
      "metadata": {
        "id": "Fd9B3AdAOmDG",
        "colab": {
          "base_uri": "https://localhost:8080/"
        },
        "outputId": "a68d8029-1f7a-4fc7-90ac-1d6b836ab987"
      },
      "source": [
        "X=np.vectorize(fun)(X)\n",
        "Y=np.where(Y==-1,0,Y)\n",
        "print(X[:20])\n",
        "print(Y[:20])"
      ],
      "execution_count": null,
      "outputs": [
        {
          "output_type": "stream",
          "text": [
            "[[0 2 2 2 0 0 0 0 0 2 2 0 2 0 2 0 0 0 1 2 2 2 2 0 0 0 0 2 2 0]\n",
            " [2 2 2 2 2 0 1 2 0 2 2 0 2 1 0 0 2 2 1 2 2 2 2 0 0 1 0 2 2 2]\n",
            " [2 1 2 2 2 0 0 0 0 2 2 0 2 1 0 0 0 0 1 2 2 2 2 2 0 2 0 2 1 0]\n",
            " [2 1 2 2 2 0 0 0 2 2 2 0 0 1 1 0 2 2 1 2 2 2 2 0 0 2 0 2 0 2]\n",
            " [2 1 0 2 2 0 2 2 0 2 2 2 2 1 1 0 2 2 1 0 2 0 2 0 0 1 0 2 2 2]\n",
            " [0 1 0 2 0 0 2 2 0 2 2 0 2 1 1 0 0 0 1 2 2 2 2 2 2 2 0 2 0 0]\n",
            " [2 1 0 2 2 0 0 0 2 2 2 2 0 0 1 0 0 0 1 2 2 2 2 2 0 0 0 2 1 0]\n",
            " [2 1 2 2 2 0 0 0 2 2 2 0 0 1 0 0 2 2 1 2 2 2 2 0 0 1 0 2 1 2]\n",
            " [2 1 0 2 2 0 2 2 0 2 2 0 2 1 2 0 2 2 1 2 2 2 2 2 0 2 2 2 1 2]\n",
            " [2 2 0 2 2 0 0 2 0 2 2 2 2 1 2 0 2 2 1 2 2 2 2 2 0 1 0 2 1 2]\n",
            " [2 2 2 2 2 0 1 2 2 2 2 2 0 1 1 0 0 0 1 2 2 2 2 0 2 2 2 2 0 0]\n",
            " [2 2 0 2 2 0 2 0 0 2 2 2 2 0 0 0 0 0 1 2 2 2 2 0 0 0 0 2 1 0]\n",
            " [0 2 0 2 0 0 1 1 2 2 2 0 0 0 2 0 2 2 1 0 2 0 2 2 0 0 0 2 1 2]\n",
            " [2 2 0 2 2 0 1 0 2 2 2 2 0 0 0 0 2 2 1 2 2 2 2 0 0 1 0 2 2 2]\n",
            " [2 2 0 2 2 2 0 2 0 2 2 0 2 1 2 2 2 2 1 2 2 2 2 2 0 2 0 2 0 2]\n",
            " [2 0 0 0 2 0 1 1 2 2 2 2 0 0 1 0 2 2 1 2 2 2 2 2 0 0 0 2 1 2]\n",
            " [2 0 0 2 2 0 2 2 0 2 2 0 2 1 0 0 0 0 1 2 2 2 2 2 0 1 0 2 2 0]\n",
            " [2 0 2 2 2 0 0 1 2 2 0 2 2 1 0 0 0 0 1 2 2 2 2 0 2 2 0 2 2 0]\n",
            " [2 2 2 2 2 0 0 2 2 2 2 0 0 1 0 0 0 0 1 2 2 2 2 2 0 0 2 2 0 0]\n",
            " [2 2 2 2 2 0 0 2 0 2 2 2 2 1 1 0 0 0 1 0 0 0 0 2 0 1 0 2 1 0]]\n",
            "[0 0 0 0 1 1 0 0 1 0 1 0 0 0 1 0 0 0 1 1]\n"
          ],
          "name": "stdout"
        }
      ]
    },
    {
      "cell_type": "code",
      "metadata": {
        "id": "Q8JwLX3EPbAO",
        "colab": {
          "base_uri": "https://localhost:8080/"
        },
        "outputId": "bfaea258-1c79-48ec-aa13-2871d929db83"
      },
      "source": [
        "split = int(0.8*X.shape[0])\n",
        "print(split)\n"
      ],
      "execution_count": null,
      "outputs": [
        {
          "output_type": "stream",
          "text": [
            "8844\n"
          ],
          "name": "stdout"
        }
      ]
    },
    {
      "cell_type": "code",
      "metadata": {
        "id": "-NwHe2UkQ9Ba",
        "colab": {
          "base_uri": "https://localhost:8080/"
        },
        "outputId": "4066c46b-e63a-4f10-b8f0-0a930dc18c72"
      },
      "source": [
        "Y.shape"
      ],
      "execution_count": null,
      "outputs": [
        {
          "output_type": "execute_result",
          "data": {
            "text/plain": [
              "(11055,)"
            ]
          },
          "metadata": {
            "tags": []
          },
          "execution_count": 12
        }
      ]
    },
    {
      "cell_type": "code",
      "metadata": {
        "id": "Wq0-S8qORUEs"
      },
      "source": [
        "X_train = X[:split,:]\n",
        "Y_train = Y[:split]\n",
        "\n",
        "X_test = X[split:,:]\n",
        "Y_test = Y[split:]"
      ],
      "execution_count": null,
      "outputs": []
    },
    {
      "cell_type": "code",
      "metadata": {
        "id": "rfi7TTvMRdBP",
        "colab": {
          "base_uri": "https://localhost:8080/"
        },
        "outputId": "fdc27aa3-cb71-45ed-88de-b3f03a7d2862"
      },
      "source": [
        "print(X_train.shape,Y_train.shape,X_test.shape,Y_test.shape)"
      ],
      "execution_count": null,
      "outputs": [
        {
          "output_type": "stream",
          "text": [
            "(8844, 30) (8844,) (2211, 30) (2211,)\n"
          ],
          "name": "stdout"
        }
      ]
    },
    {
      "cell_type": "code",
      "metadata": {
        "id": "vKfYYmxyRe8z"
      },
      "source": [
        "###KNN####\n",
        "def euclideanDist(x1,x2):\n",
        "    return np.sqrt(sum((x1-x2)**2))\n",
        "\n",
        "def knn(X,Y,queryPoint,k=5):\n",
        "    distances = []\n",
        "    noOfSamples = X.shape[0]\n",
        "    for i in range(noOfSamples):\n",
        "        d = euclideanDist(queryPoint,X[i])\n",
        "        distances.append((d,Y[i]))\n",
        "    distances = sorted(distances)\n",
        "    # Nearest/First K points\n",
        "    distances = distances[:k]\n",
        "    distances = np.array(distances)\n",
        "    new_distances = np.unique(distances[:,1],return_counts=True)\n",
        "    #print(new_vals)\n",
        "    \n",
        "    index = new_distances[1].argmax()\n",
        "    pred = new_distances[0][index]\n",
        "    \n",
        "    return pred"
      ],
      "execution_count": null,
      "outputs": []
    },
    {
      "cell_type": "code",
      "metadata": {
        "id": "BbF6C8T0TeDh"
      },
      "source": [
        "Y_pred=[int(knn(X_test,Y_test,point)) for point in X_test]"
      ],
      "execution_count": null,
      "outputs": []
    },
    {
      "cell_type": "code",
      "metadata": {
        "id": "h2n0EYYFUAKB",
        "colab": {
          "base_uri": "https://localhost:8080/"
        },
        "outputId": "b22c209a-c924-4c9e-c9d9-8014bd39ae59"
      },
      "source": [
        "print(Y_pred[:100])"
      ],
      "execution_count": null,
      "outputs": [
        {
          "output_type": "stream",
          "text": [
            "[0, 1, 1, 0, 1, 0, 1, 1, 0, 1, 1, 0, 1, 0, 1, 1, 1, 1, 0, 1, 0, 0, 0, 0, 0, 1, 0, 0, 1, 0, 0, 0, 1, 1, 1, 1, 0, 0, 0, 1, 0, 0, 1, 0, 1, 0, 1, 1, 1, 1, 0, 1, 1, 0, 0, 1, 0, 0, 1, 1, 0, 0, 0, 1, 1, 0, 0, 0, 0, 0, 1, 0, 0, 0, 1, 0, 1, 1, 1, 1, 0, 1, 0, 0, 0, 0, 0, 1, 0, 1, 1, 0, 1, 1, 1, 1, 1, 0, 1, 0]\n"
          ],
          "name": "stdout"
        }
      ]
    },
    {
      "cell_type": "code",
      "metadata": {
        "id": "zhsctq_9VRh5",
        "colab": {
          "base_uri": "https://localhost:8080/"
        },
        "outputId": "b5deeaad-da11-42b2-9f75-3ee8abb44612"
      },
      "source": [
        "##ACCURACY\n",
        "Y_pred=np.array(Y_pred)\n",
        "print(np.sum(Y_pred==Y_test)/Y_test.shape[0])"
      ],
      "execution_count": null,
      "outputs": [
        {
          "output_type": "stream",
          "text": [
            "0.9502487562189055\n"
          ],
          "name": "stdout"
        }
      ]
    },
    {
      "cell_type": "code",
      "metadata": {
        "id": "53z2zfDoaE4z",
        "colab": {
          "base_uri": "https://localhost:8080/",
          "height": 416
        },
        "outputId": "3b37b256-410c-4ac7-8083-5a747f535b33"
      },
      "source": [
        "cnf1=confusion_matrix(Y_test,Y_pred)\n",
        "plot_confusion_matrix(cnf1,[0,1],normalize=False,title=\"Confusion Matrix(KNN)\")\n",
        "printParams(cnf1)"
      ],
      "execution_count": null,
      "outputs": [
        {
          "output_type": "stream",
          "text": [
            "Confusion matrix, without normalization\n",
            "[[ 956   25]\n",
            " [  85 1145]]\n",
            "ACCURACY: 0.9502487562189055\n",
            "PRECISION: 0.9786324786324786\n",
            "RECALL: 0.9308943089430894\n",
            "F-measure 0.9541666666666666\n"
          ],
          "name": "stdout"
        },
        {
          "output_type": "display_data",
          "data": {
            "image/png": "[encoded data removed]",
            "text/plain": [
              "<Figure size 432x288 with 2 Axes>"
            ]
          },
          "metadata": {
            "tags": [],
            "needs_background": "light"
          }
        }
      ]
    },
    {
      "cell_type": "code",
      "metadata": {
        "id": "hqml3Xen3e-c"
      },
      "source": [
        "####Logistic Regression\n",
        "def hypothesis(x,w,b):\n",
        "    h = np.dot(x,w) + b\n",
        "    return sigmoid(h)\n",
        "\n",
        "def sigmoid(z):\n",
        "    return 1.0/(1.0 + np.exp(-1.0*z))\n",
        "\n",
        "def error(y_true,x,w,b):\n",
        "    m = x.shape[0]\n",
        "    err = 0.0\n",
        "    for i in range(m):\n",
        "        hx = hypothesis(x[i],w,b) \n",
        "        err += y_true[i]*np.log2(hx) + (1-y_true[i])*np.log2(1-hx)\n",
        "\n",
        "    return -err/m\n",
        "\n",
        "\n",
        "def get_grads(y_true,x,w,b):\n",
        "    \n",
        "    grad_w = np.zeros(w.shape)\n",
        "    grad_b = 0.0\n",
        "    \n",
        "    m = x.shape[0]\n",
        "    \n",
        "    for i in range(m):\n",
        "        hx = hypothesis(x[i],w,b)\n",
        "        \n",
        "        grad_w += (y_true[i] - hx)*x[i]\n",
        "        grad_b +=  (y_true[i]-hx)\n",
        "        \n",
        "    \n",
        "    grad_w /= m\n",
        "    grad_b /= m\n",
        "    \n",
        "    return [grad_w,grad_b]\n",
        "\n",
        "def grad_descent(x,y_true,w,b,learning_rate=0.1):\n",
        "    \n",
        "    err = error(y_true,x,w,b)\n",
        "    [grad_w,grad_b] = get_grads(y_true,x,w,b)\n",
        "    \n",
        "    w = w + learning_rate*grad_w\n",
        "    b = b + learning_rate*grad_b\n",
        "    \n",
        "    return err,w,b\n",
        "    \n",
        "def predict(x,w,b):\n",
        "    \n",
        "    confidence = hypothesis(x,w,b)\n",
        "    if confidence<0.5:\n",
        "        return 0\n",
        "    else:\n",
        "        return 1\n",
        "    \n",
        "def get_accuracy(x_tst,y_tst,w,b):\n",
        "    \n",
        "    y_pred = []\n",
        "    \n",
        "    for i in range(y_tst.shape[0]):\n",
        "        p = predict(x_tst[i],w,b)\n",
        "        y_pred.append(p)\n",
        "        \n",
        "    y_pred = np.array(y_pred)\n",
        "    \n",
        "    return  float((y_pred==y_tst).sum())/y_tst.shape[0]\n",
        "\n",
        "def logistic_regression(X_train,Y_train,X_test,Y_test,lr,iterations):\n",
        "  loss = []\n",
        "  acc = []\n",
        "\n",
        "  W = 4*np.random.random((X_train.shape[1],))\n",
        "  b = 6*np.random.random()\n",
        "  for i in range(iterations):\n",
        "    l,W,b = grad_descent(X_train,Y_train,W,b,learning_rate=lr)\n",
        "    acc.append(get_accuracy(X_test,Y_test,W,b))\n",
        "    loss.append(l)\n",
        "  return loss,acc\n"
      ],
      "execution_count": null,
      "outputs": []
    },
    {
      "cell_type": "code",
      "metadata": {
        "id": "uJhOXYF0XPqb",
        "colab": {
          "base_uri": "https://localhost:8080/"
        },
        "outputId": "b44c36f6-f577-487a-a853-9a17541206d2"
      },
      "source": [
        "loss_log_reg,acc_log_reg=logistic_regression(X_train,Y_train,X_test,Y_test,0.01,1000)"
      ],
      "execution_count": null,
      "outputs": [
        {
          "output_type": "stream",
          "text": [
            "/usr/local/lib/python3.6/dist-packages/ipykernel_launcher.py:14: RuntimeWarning: divide by zero encountered in log2\n",
            "  \n",
            "/usr/local/lib/python3.6/dist-packages/ipykernel_launcher.py:14: RuntimeWarning: invalid value encountered in multiply\n",
            "  \n"
          ],
          "name": "stderr"
        }
      ]
    },
    {
      "cell_type": "code",
      "metadata": {
        "id": "1dMwXx3jgPHG",
        "colab": {
          "base_uri": "https://localhost:8080/",
          "height": 282
        },
        "outputId": "e00db9e1-448f-428e-f69b-9fed4b15c60f"
      },
      "source": [
        "plt.plot(loss_log_reg)\n",
        "plt.show()\n",
        "print(acc_log_reg[-1])"
      ],
      "execution_count": null,
      "outputs": [
        {
          "output_type": "display_data",
          "data": {
            "image/png": "[encoded data removed]",
            "text/plain": [
              "<Figure size 432x288 with 1 Axes>"
            ]
          },
          "metadata": {
            "tags": [],
            "needs_background": "light"
          }
        },
        {
          "output_type": "stream",
          "text": [
            "0.751696065128901\n"
          ],
          "name": "stdout"
        }
      ]
    },
    {
      "cell_type": "code",
      "metadata": {
        "id": "cXYwkSYwrreA",
        "colab": {
          "base_uri": "https://localhost:8080/"
        },
        "outputId": "3a3749e7-db6a-4238-fdc7-9004495ca7d8"
      },
      "source": [
        "##Logistic Regression (SKLEARN)\n",
        "clf=LogisticRegression(random_state=0,max_iter=1000)\n",
        "clf.fit(X_train,Y_train)\n",
        "print(clf.score(X_test,Y_test))"
      ],
      "execution_count": null,
      "outputs": [
        {
          "output_type": "stream",
          "text": [
            "0.9208502939846224\n"
          ],
          "name": "stdout"
        }
      ]
    },
    {
      "cell_type": "code",
      "metadata": {
        "id": "-fwT1gyfJw9j",
        "colab": {
          "base_uri": "https://localhost:8080/",
          "height": 416
        },
        "outputId": "79c9b7d3-5768-4ac9-84d1-46ed5b63d034"
      },
      "source": [
        "cnf2=confusion_matrix(Y_test,clf.predict(X_test))\n",
        "plot_confusion_matrix(cnf2,[0,1],normalize=False,title=\"Confusion Matrix(Logistic Regression)\")\n",
        "printParams(cnf2)"
      ],
      "execution_count": null,
      "outputs": [
        {
          "output_type": "stream",
          "text": [
            "Confusion matrix, without normalization\n",
            "[[ 881  100]\n",
            " [  75 1155]]\n",
            "ACCURACY: 0.9208502939846224\n",
            "PRECISION: 0.9203187250996016\n",
            "RECALL: 0.9390243902439024\n",
            "F-measure 0.9295774647887323\n"
          ],
          "name": "stdout"
        },
        {
          "output_type": "display_data",
          "data": {
            "image/png": "[encoded data removed]",
            "text/plain": [
              "<Figure size 432x288 with 2 Axes>"
            ]
          },
          "metadata": {
            "tags": [],
            "needs_background": "light"
          }
        }
      ]
    },
    {
      "cell_type": "code",
      "metadata": {
        "id": "pTboK6TktM7E"
      },
      "source": [
        "##NAIVE BAYES\n",
        "mnb=MultinomialNB()"
      ],
      "execution_count": null,
      "outputs": []
    },
    {
      "cell_type": "code",
      "metadata": {
        "id": "nT8LgeBKKIem",
        "colab": {
          "base_uri": "https://localhost:8080/"
        },
        "outputId": "1f70d7d3-2b4d-4281-a813-9c4b002309c5"
      },
      "source": [
        "mnb.fit(X_train,Y_train)"
      ],
      "execution_count": null,
      "outputs": [
        {
          "output_type": "execute_result",
          "data": {
            "text/plain": [
              "MultinomialNB(alpha=1.0, class_prior=None, fit_prior=True)"
            ]
          },
          "metadata": {
            "tags": []
          },
          "execution_count": 25
        }
      ]
    },
    {
      "cell_type": "code",
      "metadata": {
        "id": "z8crtm7mKMYW",
        "colab": {
          "base_uri": "https://localhost:8080/"
        },
        "outputId": "f0ce7426-f572-4cbb-bd73-230fdc738721"
      },
      "source": [
        "mnb.score(X_test,Y_test)"
      ],
      "execution_count": null,
      "outputs": [
        {
          "output_type": "execute_result",
          "data": {
            "text/plain": [
              "0.8502939846223428"
            ]
          },
          "metadata": {
            "tags": []
          },
          "execution_count": 26
        }
      ]
    },
    {
      "cell_type": "code",
      "metadata": {
        "id": "fcbMbKK1KFUs",
        "colab": {
          "base_uri": "https://localhost:8080/",
          "height": 416
        },
        "outputId": "079050a3-1939-419d-e2f1-75e00beb535f"
      },
      "source": [
        "cnf3=confusion_matrix(Y_test,mnb.predict(X_test))\n",
        "plot_confusion_matrix(cnf3,[0,1],normalize=False,title=\"Confusion Matrix(Multinomial Naive Bayes)\")\n",
        "printParams(cnf3)"
      ],
      "execution_count": null,
      "outputs": [
        {
          "output_type": "stream",
          "text": [
            "Confusion matrix, without normalization\n",
            "[[ 770  211]\n",
            " [ 120 1110]]\n",
            "ACCURACY: 0.8502939846223428\n",
            "PRECISION: 0.8402725208175624\n",
            "RECALL: 0.9024390243902439\n",
            "F-measure 0.8702469619756958\n"
          ],
          "name": "stdout"
        },
        {
          "output_type": "display_data",
          "data": {
            "image/png": "[encoded data removed]",
            "text/plain": [
              "<Figure size 432x288 with 2 Axes>"
            ]
          },
          "metadata": {
            "tags": [],
            "needs_background": "light"
          }
        }
      ]
    },
    {
      "cell_type": "code",
      "metadata": {
        "id": "VtZ9pd3hKeKX",
        "colab": {
          "base_uri": "https://localhost:8080/"
        },
        "outputId": "938a8aec-9e67-4808-d555-dfa469b83463"
      },
      "source": [
        "bnb=BernoulliNB()\n",
        "bnb.fit(X_train,Y_train)"
      ],
      "execution_count": null,
      "outputs": [
        {
          "output_type": "execute_result",
          "data": {
            "text/plain": [
              "BernoulliNB(alpha=1.0, binarize=0.0, class_prior=None, fit_prior=True)"
            ]
          },
          "metadata": {
            "tags": []
          },
          "execution_count": 27
        }
      ]
    },
    {
      "cell_type": "code",
      "metadata": {
        "id": "Iw96qiGYKmZp",
        "colab": {
          "base_uri": "https://localhost:8080/"
        },
        "outputId": "69f5b405-9c67-42dc-bf68-2454252c707a"
      },
      "source": [
        "bnb.score(X_test,Y_test)"
      ],
      "execution_count": null,
      "outputs": [
        {
          "output_type": "execute_result",
          "data": {
            "text/plain": [
              "0.9054726368159204"
            ]
          },
          "metadata": {
            "tags": []
          },
          "execution_count": 28
        }
      ]
    },
    {
      "cell_type": "code",
      "metadata": {
        "id": "fBvJm12sKGSB",
        "colab": {
          "base_uri": "https://localhost:8080/",
          "height": 416
        },
        "outputId": "bc81409c-3636-4a1a-ea8c-961464c362b9"
      },
      "source": [
        "cnf4=confusion_matrix(Y_test,bnb.predict(X_test))\n",
        "plot_confusion_matrix(cnf4,[0,1],normalize=False,title=\"Confusion Matrix(Bernoulli Naive Bayes)\")\n",
        "printParams(cnf4)"
      ],
      "execution_count": null,
      "outputs": [
        {
          "output_type": "stream",
          "text": [
            "Confusion matrix, without normalization\n",
            "[[ 829  152]\n",
            " [  57 1173]]\n",
            "ACCURACY: 0.9054726368159204\n",
            "PRECISION: 0.8852830188679245\n",
            "RECALL: 0.9536585365853658\n",
            "F-measure 0.9181996086105675\n"
          ],
          "name": "stdout"
        },
        {
          "output_type": "display_data",
          "data": {
            "image/png": "[encoded data removed]",
            "text/plain": [
              "<Figure size 432x288 with 2 Axes>"
            ]
          },
          "metadata": {
            "tags": [],
            "needs_background": "light"
          }
        }
      ]
    },
    {
      "cell_type": "code",
      "metadata": {
        "id": "GpB1JgjAL5rd"
      },
      "source": [
        "##SVM\n",
        "svm=SVC(kernel='linear',C=1.0,random_state=5)"
      ],
      "execution_count": null,
      "outputs": []
    },
    {
      "cell_type": "code",
      "metadata": {
        "id": "MTPP29cwYuN5",
        "colab": {
          "base_uri": "https://localhost:8080/"
        },
        "outputId": "b7b4d8d1-be17-476d-aafe-a3114ae638f7"
      },
      "source": [
        "svm.fit(X_train,Y_train)"
      ],
      "execution_count": null,
      "outputs": [
        {
          "output_type": "execute_result",
          "data": {
            "text/plain": [
              "SVC(C=1.0, break_ties=False, cache_size=200, class_weight=None, coef0=0.0,\n",
              "    decision_function_shape='ovr', degree=3, gamma='scale', kernel='linear',\n",
              "    max_iter=-1, probability=False, random_state=5, shrinking=True, tol=0.001,\n",
              "    verbose=False)"
            ]
          },
          "metadata": {
            "tags": []
          },
          "execution_count": 30
        }
      ]
    },
    {
      "cell_type": "code",
      "metadata": {
        "id": "pYwaQKjLYxsV",
        "colab": {
          "base_uri": "https://localhost:8080/"
        },
        "outputId": "4d160f34-7767-4cd0-fbb9-80b84743886f"
      },
      "source": [
        "svm.score(X_test,Y_test)"
      ],
      "execution_count": null,
      "outputs": [
        {
          "output_type": "execute_result",
          "data": {
            "text/plain": [
              "0.9253731343283582"
            ]
          },
          "metadata": {
            "tags": []
          },
          "execution_count": 31
        }
      ]
    },
    {
      "cell_type": "code",
      "metadata": {
        "id": "6TPJ8q5TKHrc",
        "colab": {
          "base_uri": "https://localhost:8080/",
          "height": 416
        },
        "outputId": "e40e3f50-6476-452f-cc00-6b6ddbad09a8"
      },
      "source": [
        "cnf5=confusion_matrix(Y_test,svm.predict(X_test))\n",
        "plot_confusion_matrix(cnf5,[0,1],normalize=False,title=\"Confusion Matrix(Linear SVM)\")\n",
        "printParams(cnf5)\n"
      ],
      "execution_count": null,
      "outputs": [
        {
          "output_type": "stream",
          "text": [
            "Confusion matrix, without normalization\n",
            "[[ 884   97]\n",
            " [  68 1162]]\n",
            "ACCURACY: 0.9253731343283582\n",
            "PRECISION: 0.9229547259729944\n",
            "RECALL: 0.9447154471544715\n",
            "F-measure 0.9337083165930091\n"
          ],
          "name": "stdout"
        },
        {
          "output_type": "display_data",
          "data": {
            "image/png": "[encoded data removed]",
            "text/plain": [
              "<Figure size 432x288 with 2 Axes>"
            ]
          },
          "metadata": {
            "tags": [],
            "needs_background": "light"
          }
        }
      ]
    },
    {
      "cell_type": "code",
      "metadata": {
        "id": "T0iWIjdkY2Wa"
      },
      "source": [
        ""
      ],
      "execution_count": null,
      "outputs": []
    }
  ]
}